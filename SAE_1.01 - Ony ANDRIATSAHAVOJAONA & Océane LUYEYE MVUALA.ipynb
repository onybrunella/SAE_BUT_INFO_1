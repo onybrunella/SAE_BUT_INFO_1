{
 "cells": [
  {
   "cell_type": "markdown",
   "metadata": {
    "deletable": false,
    "editable": false,
    "run_control": {
     "frozen": true
    }
   },
   "source": [
    "# SAE : Implémentation d'un besoin client\n",
    "# <center> Codage et décodage </center>"
   ]
  },
  {
   "cell_type": "markdown",
   "metadata": {
    "deletable": false,
    "editable": false,
    "run_control": {
     "frozen": true
    }
   },
   "source": [
    "L'objectif de ce projet est d'implanter différentes techniques de codage et décodage de l'information. \n",
    "Plus précisément, on s'intéressera ici à deux  méthodes qui ont des objectifs assez différents: \n",
    "- le **codage à bit de parité simple** qui permet de vérifier que l'information reçue n'a pas été altérée au cours de la transmission;\n",
    "- le **chiffrement de César** qui permet de chiffrer l'information à transmettre."
   ]
  },
  {
   "cell_type": "markdown",
   "metadata": {
    "deletable": false,
    "editable": false,
    "run_control": {
     "frozen": true
    }
   },
   "source": [
    "**Ce projet est à faire en binôme.**\n",
    "\n",
    "#### Planning\n",
    "- Pour le 4 octobre : implanter les fonctions de la partie préliminaire et comprendre le principe du codage à bit de parité simple. \n",
    "- Pour le 11 octobre : implanter les fonctions de ârtie codage à bit de parité simple et comprendre le principe du chiffrement de césar.\n",
    "- Pour le 18 octobre : implanter les fonctions et programmes des questions 1 à 5 de la partie chiffrement de César.\n",
    "- Pour le 24 octobre : implanter les fonctions et programmes des questions 6 à 8 de la partie chiffrement de César \n",
    "- **Rendu** : l'ensemble est à envoyer au plus tard le dimanche **24 octobre**.\n",
    "\n",
    "Pour chaque fonction demandée, un exemple d'appel ou des tests unitaires sont donnés de manière à vérifier la conformité de votre proposition.\n",
    "\n",
    "Lorsque l'on convertit des chaînes de caractères en nombres et *vice versa*, on a souvent recours à des **casts**. \n",
    "\n",
    "Lorsque l'on manipule des caractères, il est également utile d'accéder à leur unicode et *vice versa*. En Python, cela se fait via les fonctions `ord` et `chr` respectivement."
   ]
  },
  {
   "cell_type": "markdown",
   "metadata": {
    "deletable": false,
    "editable": false,
    "run_control": {
     "frozen": true
    }
   },
   "source": [
    "## Préliminaires\n",
    "\n",
    "Pour implanter les différentes méthodes de codage et décodage, certaines fonctions sont bien utiles. Ce sont ces fonctions qui font l'objet de cette partie préliminaire."
   ]
  },
  {
   "cell_type": "markdown",
   "metadata": {
    "deletable": false,
    "editable": false,
    "run_control": {
     "frozen": true
    }
   },
   "source": [
    "### Question 1 : Saisie contrôlée d'un entier positif\n",
    "Ecrire une fonction  de saisie contrôlée `saisieIntPos` demandant à l'utilisateur un entier positif ou nul et le lui redemandant jusqu'à ce que ce soit un entier positif ou nul."
   ]
  },
  {
   "cell_type": "code",
   "execution_count": 123,
   "metadata": {},
   "outputs": [
    {
     "name": "stdout",
     "output_type": "stream",
     "text": [
      "Saisir un entier positif ou nul\n",
      "-98\n",
      "Saisir un entier ou nul\n",
      "0\n",
      "0\n"
     ]
    }
   ],
   "source": [
    "def saisieIntPos():\n",
    "    \"\"\"\"\n",
    "    demande à l’utilisateur de saisir un entier positif ou nul. \n",
    "    L’utilisateur doit saisir un nombre jusqu’à ce que celui-ci soit un nombre entier positif ou nul.\n",
    "    \"\"\"\n",
    "    \n",
    "    print(\"Saisir un entier positif ou nul\")\n",
    "    nb=int(input())\n",
    "    while nb<0:\n",
    "        print(\"Saisir un entier ou nul\")\n",
    "        nb=int(input())\n",
    "    return nb\n",
    "    \n",
    "n = saisieIntPos()\n",
    "print(n)"
   ]
  },
  {
   "cell_type": "code",
   "execution_count": 125,
   "metadata": {},
   "outputs": [
    {
     "name": "stdout",
     "output_type": "stream",
     "text": [
      "Saisir un entier positif ou nul\n",
      "65\n",
      "l'entier saisi est 65\n"
     ]
    }
   ],
   "source": [
    "# ------------  TEST/EXEMPLE ---------- #\n",
    "print(\"l'entier saisi est\", saisieIntPos())"
   ]
  },
  {
   "cell_type": "markdown",
   "metadata": {
    "deletable": false,
    "editable": false,
    "run_control": {
     "frozen": true
    }
   },
   "source": [
    "### Question 2 : Saisie d'un entier positif  qui s'écrit sur 10 bits\n",
    "Le plus grand entier positif que l'on puisse écrire en binaire sur 10 bits est 1023 (car 10000000000 en binaire vaut 1024 en décimal).\n",
    "\n",
    "Ecrire une fonction  de saisie contrôlée `saisieIntPos10Bits` demandant à l'utilisateur un entier compris entre 0 (inclus) et 1023 (inclus) et lui redemandant un entier jusqu'à ce que ce soit qu'il soit correct."
   ]
  },
  {
   "cell_type": "code",
   "execution_count": 127,
   "metadata": {},
   "outputs": [
    {
     "name": "stdout",
     "output_type": "stream",
     "text": [
      "Saisir un entier compris entre 0 et 1023\n",
      "1024\n",
      "Saisir un entier compris entre 0 et 1023\n",
      "105151\n",
      "Saisir un entier compris entre 0 et 1023\n",
      "1654\n",
      "Saisir un entier compris entre 0 et 1023\n",
      "-64\n",
      "Saisir un entier compris entre 0 et 1023\n",
      "6\n",
      "6\n"
     ]
    }
   ],
   "source": [
    "def saisieIntPos10Bits():\n",
    "    \"\"\"\n",
    "    demande à l’utilisateur de saisir un nombre qui s’écrit sur 10 bits. \n",
    "    Plus petit nombre que l’on puisse écrire sur 10 bits 0 et plus grand nombre que l’on puisse écrire sur 1023. \n",
    "    :return : int le nombre compris entre 0 et 1023.\n",
    "    \"\"\"\n",
    "    \n",
    "    print(\"Saisir un entier compris entre 0 et 1023\")\n",
    "    nb=int(input())\n",
    "    while not(nb>=0 and nb<=1023):\n",
    "        print(\"Saisir un entier compris entre 0 et 1023\")\n",
    "        nb=int(input())\n",
    "    return nb\n",
    "\n",
    "n=saisieIntPos10Bits()\n",
    "print(n)"
   ]
  },
  {
   "cell_type": "code",
   "execution_count": 128,
   "metadata": {},
   "outputs": [
    {
     "name": "stdout",
     "output_type": "stream",
     "text": [
      "Saisir un entier compris entre 0 et 1023\n",
      "6\n",
      "l'entier saisi est 6\n"
     ]
    }
   ],
   "source": [
    "# ------------  TEST/EXEMPLE ---------- #\n",
    "print(\"l'entier saisi est\",saisieIntPos10Bits())"
   ]
  },
  {
   "cell_type": "markdown",
   "metadata": {
    "deletable": false,
    "editable": false,
    "run_control": {
     "frozen": true
    }
   },
   "source": [
    "### Question 3 : Saisie contrôlée d'un entier compris entre a et b\n",
    "Ecrire une fonction  de saisie contrôlée `saisieIntab` demandant à l'utilisateur un entier compris entre a (inclus) et b (inclus) et lui redemandant un entier jusqu'à ce que ce soit qu'il soit dans le bon intervalle.\n",
    "\n",
    "On ne vérifiera pas que a est plus petit que b."
   ]
  },
  {
   "cell_type": "code",
   "execution_count": 129,
   "metadata": {},
   "outputs": [
    {
     "name": "stdout",
     "output_type": "stream",
     "text": [
      "Saisir un nombre compris entre 1 et 36\n",
      "65\n",
      "Saisir un nombre compris entre 1 et 36\n",
      "95\n",
      "Saisir un nombre compris entre 1 et 36\n",
      "4\n",
      "4\n"
     ]
    }
   ],
   "source": [
    "def saisieIntab(a,b):\n",
    "    \"\"\"\n",
    "    demande à l’utilisateur de saisir un nombre compris entre a et b\n",
    "    :param a: premier nombre entré en paramètre qui constitue l’intervalle\n",
    "    :param b: deuxième nombre entré en paramètre qui constitue l’intervalle\n",
    "    :return : le nombre saisi par l’utilisateur compris dans l’intervalle\n",
    "    \"\"\"\n",
    "\n",
    "    print (\"Saisir un nombre compris entre\", a, 'et', b)\n",
    "    nb = int(input())\n",
    "    while not(nb >= a and nb <= b) :\n",
    "        print (\"Saisir un nombre compris entre\", a, 'et', b)\n",
    "        nb = int(input())\n",
    "    return nb\n",
    "        \n",
    "\n",
    "n=saisieIntab(1,36)\n",
    "print(n)"
   ]
  },
  {
   "cell_type": "code",
   "execution_count": 130,
   "metadata": {},
   "outputs": [
    {
     "name": "stdout",
     "output_type": "stream",
     "text": [
      "Saisir un nombre compris entre 1 et 25\n",
      "955\n",
      "Saisir un nombre compris entre 1 et 25\n",
      "-6665\n",
      "Saisir un nombre compris entre 1 et 25\n",
      "6\n",
      "l'entier saisi est 6\n"
     ]
    }
   ],
   "source": [
    "# ------------  TEST/EXEMPLE ---------- #\n",
    "print(\"l'entier saisi est\",saisieIntab(1,25))"
   ]
  },
  {
   "cell_type": "markdown",
   "metadata": {},
   "source": [
    "### Question 4 : Verification de la binarité d'une chaîne\n",
    "Ecrire une fonction `verifBin` qui permet de vérifier qu'une chaîne de caractères ne contient que des `0` et des `1`.\n",
    "Elle prendra en paramètre une chaîne de caractère `s_bin` et retournera `True` si la chaîne n'est composée que de`0` et de `1` et `False` sinon."
   ]
  },
  {
   "cell_type": "code",
   "execution_count": 131,
   "metadata": {},
   "outputs": [
    {
     "name": "stdout",
     "output_type": "stream",
     "text": [
      "True\n"
     ]
    }
   ],
   "source": [
    "def verifBin(s_bin):\n",
    "    \"\"\"\n",
    "    vérifie que la chaine de caractère ne contient que des 0 et des 1\n",
    "    :param s_bin: chaine de caractère entré lors de l’appel de fonction\n",
    "    :return : bool , True -> la chaine est composé de 0 et de 1,\n",
    "    False sinon\n",
    "    \"\"\"\n",
    "    i=0\n",
    "    car=len(s_bin)\n",
    "    compteur=0\n",
    "    while i<car:\n",
    "        if s_bin[i]=='0' or s_bin[i]=='1':\n",
    "            compteur+=1\n",
    "        i+=1\n",
    "    if compteur==car:\n",
    "        return True\n",
    "    else:\n",
    "        return False\n",
    "        \n",
    "n=verifBin('000001100')\n",
    "print(n)"
   ]
  },
  {
   "cell_type": "code",
   "execution_count": 132,
   "metadata": {},
   "outputs": [
    {
     "name": "stdout",
     "output_type": "stream",
     "text": [
      "test ok\n"
     ]
    }
   ],
   "source": [
    "# ------------  TEST/EXEMPLE ---------- #\n",
    "def test_verifBin():\n",
    "    assert verifBin('0000')\n",
    "    assert verifBin('0110')\n",
    "    assert not verifBin('2981')\n",
    "    assert not verifBin('andei')\n",
    "    assert not verifBin('2&@')\n",
    "    print(\"test ok\")\n",
    "\n",
    "test_verifBin()"
   ]
  },
  {
   "cell_type": "markdown",
   "metadata": {},
   "source": [
    "### Question 5 : Conversion d'un nombre décimal en binaire \n",
    "\n",
    "Pour transmettre l'information, on est souvent amené à convertir en binaire des nombres décimaux. Par exemple, Le nombre `13` écrit en base 10 se code `1101` en binaire.\n",
    "\n",
    "*Comment effectuer ce codage ?*\n",
    "\n",
    "On peut utiliser la méthode des divisions successives par 2.\n",
    "\n",
    "**Rappels :** En Python,\n",
    "- le quotient d'une division euclidienne s'obtient en utilisant l'opérateur `//` ; ainsi `5//2=2`\n",
    "- le reste d'une division euclidienne s'obtient en utilisant l'opérateur `%`; ainsi `5%2=1`\n",
    "\n",
    "```\n",
    "   \t             .\n",
    "   \t            / \\   <--- sens de lecture des restes pour former le nombre binaire\n",
    "13 // 2   = 6   \t|   \n",
    "13 %  2   = 1    |   reste = 1\n",
    "                 |\n",
    "6 // 2    = 3   \t|   \n",
    "6  %  2   = 0   \t|   reste = 0\n",
    "                 |  \n",
    "3 // 2    = 1    |   \n",
    "3 %  2    = 1    |   reste = 1\n",
    "                 |\n",
    "1  // 2   = 0  \t |                  <---- On arrête, car le quotient est égal à 0\n",
    "1  % 2    = 1    |   reste = 1\n",
    "   \t             |                  \n",
    "Le nombre 13 en base 10 se code 1101 en binaire.\n",
    "```\n",
    "\n",
    "Ecrire une fonction `int2bin` prenant en paramètre un entier positif `n` écrit en base 10  et retournant une chaine de caractères correspondant à ce nombre codé en binaire en utilisant la méthode des divisions successives.\n",
    "\n",
    "On pensera à procéder à d'éventuels casts dans la fonction. On fera également attention au sens dans lequel on procède aux concaténations de chaînes de caractères.\n",
    "\n",
    "Voici le prototype de la fonction :\n",
    "```python\n",
    "def int2bin(n):\n",
    "    \"\"\"\n",
    "    :param n: nombre en base 10 à convertir en binaire\n",
    "    :return: str contient la representation binaire de n\n",
    "    \"\"\"\n",
    "```\n",
    "**Note :** Aucun test ne sera fait dans la fonction pour vérifier la validité du paramètre."
   ]
  },
  {
   "cell_type": "code",
   "execution_count": 133,
   "metadata": {},
   "outputs": [
    {
     "name": "stdout",
     "output_type": "stream",
     "text": [
      "1101\n"
     ]
    }
   ],
   "source": [
    "def int2bin(n):\n",
    "    \"\"\"\n",
    "    :param n: nombre en base 10 à convertir en binaire\n",
    "    :return : str contient la representation binaire de n\n",
    "    \"\"\"\n",
    "        \n",
    "    bin=\"\"\n",
    "    if n==0:\n",
    "        bin = \"0\"\n",
    "    while n!=0:\n",
    "        q=n//2\n",
    "        reste=n%2\n",
    "        bin=str(reste)+bin\n",
    "        n=q\n",
    "    return bin\n",
    "\n",
    "      \n",
    "\n",
    "nb=str(int2bin(13))\n",
    "print(nb)"
   ]
  },
  {
   "cell_type": "code",
   "execution_count": 134,
   "metadata": {},
   "outputs": [
    {
     "name": "stdout",
     "output_type": "stream",
     "text": [
      "test OK\n"
     ]
    }
   ],
   "source": [
    "# ------------  TEST/EXEMPLE ---------- #\n",
    "def test_int2bin():\n",
    "    assert int2bin(0)=='0'\n",
    "    assert int2bin(7)=='111'\n",
    "    assert int2bin(16)=='10000'\n",
    "    print(\"test OK\")\n",
    "    \n",
    "test_int2bin()"
   ]
  },
  {
   "cell_type": "markdown",
   "metadata": {
    "deletable": false,
    "editable": false,
    "run_control": {
     "frozen": true
    }
   },
   "source": [
    "## 1ère Partie : Code à parité simple\n",
    "\n",
    "\n",
    "Dans la technologie des objets de l'internet (IOT), il faut souvent transmettre des informations de capteurs  (par exemple, d'un capteur de température) vers un serveur (par exemple un serveur broker MQTT/*Message Queuing Telemetry Transport*).\n",
    "\n",
    "Dans ce qui suit, on développe les outils logiciels qui interviennent dans la transmission d'un nombre entier (écrit en base 10).\n",
    "\n",
    "Dans la partie préliminaire, une fonction de conversion de décimal en binaire a été définie. On sait donc comment mettre sous forme binaire l'information à transmettre. "
   ]
  },
  {
   "cell_type": "markdown",
   "metadata": {
    "deletable": false,
    "editable": false,
    "run_control": {
     "frozen": true
    }
   },
   "source": [
    "### Question 1 : Calcul du bit de parité\n",
    "\n",
    "Lors d'une transmission, des erreurs peuvent se produire (dûes à des interférences par exemple). La technique dite du bit de parité permet de détecter simplement certaines erreurs.\n",
    "\n",
    "**Principe :**\n",
    "- comptage du nombre de `1` dans la représentation binaire d'une information,\n",
    "- calcul du bit de parité : si le nombre de `1` est impair, le bit de parité vaut 1, sinon il vaut 0.\n",
    "\n",
    "**Exemple :**\n",
    "```\n",
    "information = 1101\n",
    "bit de parité  ---> 1\n",
    "```\n",
    "Ecrire une fonction `parite` prenant en paramètres une chaine de caractères représentant une information binaire et qui retourne `True` si le bit de parité vaut 1 (*i.e.*, si le nombre de 1 est impair), `False` sinon.\n",
    "\n",
    "Voici le prototype de la fonction :\n",
    "```python\n",
    "def parite(str_bin):\n",
    "    \"\"\"\n",
    "    Calcul du bit de parité du nombre binaire\n",
    "    :param str_bin: str contenant la représentation binaire d'un nombre\n",
    "    :return : bool, True -> bit de parité à 1, False -> bit de parité à 0\n",
    "    \"\"\"\n",
    "```"
   ]
  },
  {
   "cell_type": "code",
   "execution_count": 135,
   "metadata": {},
   "outputs": [
    {
     "name": "stdout",
     "output_type": "stream",
     "text": [
      "True\n"
     ]
    }
   ],
   "source": [
    "def parite(str_bin):\n",
    "    \"\"\"\n",
    "    Calcul du bit de parité du nombre binaire\n",
    "    :param str_bin: str contenant la représentation binaire d'un nombre\n",
    "    :return : bool, True -> bit de parité à 1, False -> bit de parité à 0\n",
    "    \"\"\"\n",
    "   \n",
    "    i=0\n",
    "    chaine=\"\"\n",
    "    somme=0\n",
    "    while i < len(str_bin):\n",
    "        if str_bin[i]== \"1\":\n",
    "            somme+=1\n",
    "        i+=1\n",
    "    if somme%2==1:\n",
    "        return True\n",
    "    else:\n",
    "        return False\n",
    "    \n",
    "\n",
    "n=parite(str(11111))\n",
    "print(n)    "
   ]
  },
  {
   "cell_type": "code",
   "execution_count": 136,
   "metadata": {},
   "outputs": [
    {
     "name": "stdout",
     "output_type": "stream",
     "text": [
      "test ok\n"
     ]
    }
   ],
   "source": [
    "# ------------  TEST/EXEMPLE ---------- #\n",
    "def test_parite():\n",
    "    assert not parite('0000')\n",
    "    assert parite('10000')\n",
    "    assert not parite('1010')\n",
    "    assert parite('11111')\n",
    "    print(\"test ok\")\n",
    "    \n",
    "test_parite()"
   ]
  },
  {
   "cell_type": "markdown",
   "metadata": {
    "deletable": false,
    "editable": false,
    "run_control": {
     "frozen": true
    }
   },
   "source": [
    "### Question 2 : Constitution de la trame à envoyer\n",
    "\n",
    "La trame à envoyer pour transmettre l'information est constituée de 11 bits :\n",
    "- le bit le plus à gauche (de poids le plus fort) est le bit de parité ;\n",
    "- les autres bits représentent l'information. Si l'information n'occupe pas tous les bits alors des `0` seront rajoutés en tête, par exemple si l'information n'occupe réellement que 4 bits (bit 0 à bit 3), tous les autres bits de poids supérieurs (bit 4 à bit 10) seront mis à zéro.\n",
    "\n",
    "**Exemple :**\n",
    "```\n",
    "information = 1101\n",
    "bit de parité ---> 1\n",
    "la trame à envoyer est donc 10000001101\n",
    "```\n",
    "\n",
    "Ecrire une fonction `trame` prenant un nombre entier compris entre 0 et 1023 (c'est le nombre décimal maximal codable sur 10 bits) et qui retourne une chaîne de caractères correspondant à la trame qui sera effectivement envoyée.\n",
    "\n",
    "Voici le prototype de la fonction :\n",
    "```python\n",
    "def trame(n):\n",
    "    \"\"\"\n",
    "    Contruit une trame sur 11 bits sous la forme\n",
    "    bit parite | bit 10 | bit 9 | .... | bit 1 | bit 0 |\n",
    "    bit parite : est le bit de parité\n",
    "    bit 10 à bit 0 : information à transmettre\n",
    "    :param n: entier (en base 10) à transmettre dans la trame\n",
    "    :return : str, trame sur 11 bits qui sera transmise\n",
    "    \"\"\"\n",
    "```\n",
    "**Note :** Aucun test ne sera fait dans la fonction pour vérifier la validité du paramètre."
   ]
  },
  {
   "cell_type": "code",
   "execution_count": 137,
   "metadata": {},
   "outputs": [
    {
     "name": "stdout",
     "output_type": "stream",
     "text": [
      "bin =  1010\n",
      "00000001010\n"
     ]
    }
   ],
   "source": [
    "def trame(n):\n",
    "    \"\"\"\n",
    "    Contruit une trame sur 11 bits sous la forme\n",
    "    bit parite | bit 10 | bit 9 | .... | bit 1 | bit 0 |\n",
    "    bit parite : est le bit de parité\n",
    "    bit 10 à bit 0 : information à transmettre\n",
    "    :param n: entier (en base 10) à transmettre dans la trame\n",
    "    :return : str, trame sur 11 bits qui sera transmise\n",
    "    \"\"\"\n",
    "    \n",
    "    n=int(n)\n",
    "    bin=int2bin(n)\n",
    "    print(\"bin = \", bin)\n",
    "    p=parite(bin)\n",
    "    if p==True:\n",
    "        trame=\"1\"\n",
    "    else:\n",
    "        trame=\"0\"\n",
    "    i=len(bin)\n",
    "    while i<10:\n",
    "        trame+=\"0\"\n",
    "        i+=1\n",
    "    trame +=bin\n",
    "    return trame\n",
    "        \n",
    "    \n",
    "    \n",
    "\n",
    "t=trame(10)\n",
    "print(t)   "
   ]
  },
  {
   "cell_type": "code",
   "execution_count": 138,
   "metadata": {},
   "outputs": [
    {
     "name": "stdout",
     "output_type": "stream",
     "text": [
      "bin =  1010\n",
      "bin =  10000\n",
      "bin =  11111\n",
      "bin =  0\n",
      "test ok\n"
     ]
    }
   ],
   "source": [
    "# ------------  TEST/EXEMPLE ---------- #\n",
    "def test_trame():\n",
    "    assert trame(10)=='00000001010'\n",
    "    assert trame(16)=='10000010000'\n",
    "    assert trame(31)=='10000011111'\n",
    "    assert trame(0)=='00000000000'\n",
    "    print(\"test ok\")\n",
    "\n",
    "test_trame()"
   ]
  },
  {
   "cell_type": "markdown",
   "metadata": {
    "deletable": false,
    "editable": false,
    "run_control": {
     "frozen": true
    }
   },
   "source": [
    "### Question 3 : Vérification de la validité de la trame reçue\n",
    "\n",
    "Lors de la réception du message, on peut tester s'il n'y a pas eu de problème de transmission du message en vérifiant que la trame est correcte. Il faut en effet que le bit de parité corresponde bien au 10 bits qui le précède. \n",
    "\n",
    "- Ecrire une fonction `verifTrame` prenant une chaîne de 11 caractères binaires et qui retourne `True` si la trame est correcte (*i.e*, la chaîne est de longueur 11, elle est composée de `0`et de `1` et que le premier bit correspond bien au bit de parité des 10 bit précédents et `False` sinon. \n",
    "- Ecrire également une fonction `test_verifTrame` de tests unitaires permettant de vérifier la conformité de la fonction `verifTram`.\n",
    "\n",
    "Voici le prototype de la fonction :\n",
    "```python\n",
    "def verifTrame(trm):\n",
    "    \"\"\"\n",
    "    Vérifie si la chaine est binaire, de longueur 11, et que le \n",
    "    premier bit est le bit de parité des 10 bit précédents\n",
    "    :param trm: une chaine de caractères \n",
    "    :return : bool, True -> c'est une trame de code de parité, \n",
    "    False sinon \n",
    "    \"\"\"\n",
    "```\n",
    "On pensera à utiliser la fonction `verifBin()` définie dans la partie préliminaire."
   ]
  },
  {
   "cell_type": "code",
   "execution_count": 139,
   "metadata": {},
   "outputs": [
    {
     "name": "stdout",
     "output_type": "stream",
     "text": [
      "True\n"
     ]
    }
   ],
   "source": [
    "def verifTrame(trm):\n",
    "    \"\"\"\n",
    "    Vérifie si la chaine est binaire, de longueur 11, et que le \n",
    "    premier bit est le bit de parité des 10 bit précédents\n",
    "    :param trm: une chaine de caractères \n",
    "    :return : bool, True -> c'est une trame de code de parité, \n",
    "    False sinon \n",
    "    \"\"\"\n",
    "    \n",
    "    if verifBin(trm)==True and len(trm)==11 and parite(trm)%2==0:\n",
    "        return True\n",
    "    else:\n",
    "        return False\n",
    "        \n",
    "    \n",
    "\n",
    "n=verifTrame(\"00000001010\")\n",
    "print(n)"
   ]
  },
  {
   "cell_type": "code",
   "execution_count": 140,
   "metadata": {},
   "outputs": [
    {
     "name": "stdout",
     "output_type": "stream",
     "text": [
      "test ok\n"
     ]
    }
   ],
   "source": [
    "# ------------  TEST/EXEMPLE ---------- #\n",
    "def test_verifTrame():\n",
    "    assert verifTrame(\"10000011111\")== True\n",
    "    assert verifTrame(\"00000000000\")== True\n",
    "    assert verifTrame(\"10100001011\")== False\n",
    "    assert not verifTrame(\"10000000111\")== False\n",
    "    print(\"test ok\")\n",
    "    \n",
    "test_verifTrame()"
   ]
  },
  {
   "cell_type": "code",
   "execution_count": 141,
   "metadata": {},
   "outputs": [
    {
     "name": "stdout",
     "output_type": "stream",
     "text": [
      "la trame est valide\n"
     ]
    }
   ],
   "source": [
    "# ------------  TEST/EXEMPLE ---------- #\n",
    "if verifTrame('00000001010'):\n",
    "    print(\"la trame est valide\")\n",
    "else :\n",
    "    print(\"erreur\")"
   ]
  },
  {
   "cell_type": "markdown",
   "metadata": {},
   "source": [
    "### Question 4 : Décodage de la trame reçue \n",
    "Après avoir vérifié que la trame est correcte, il reste à décoder l'information.\n",
    "- Ecrire une fonction `decodeTrame()`qui prend en paramètre une trame que l'on suppose correcte et qui retourne sous forme décimale l'information contenue dans cette trame, *i.e* l'entier qui est codé en binaire.\n",
    "- Ecrire également une fonction `test_decodeTrame` de tests unitaires permettant de vérifier la conformité de la fonction `decodeTram`."
   ]
  },
  {
   "cell_type": "code",
   "execution_count": 142,
   "metadata": {},
   "outputs": [
    {
     "name": "stdout",
     "output_type": "stream",
     "text": [
      "13\n"
     ]
    }
   ],
   "source": [
    "def decodeTrame(trm):\n",
    "    \"\"\"\n",
    "    décode une chaine de caractère binaire compris de 0 et de 1\n",
    "    :param trm: trame binaire \n",
    "    :return : Int renvoie la trame codée en binaire sous forme décimale\n",
    "    \"\"\"\n",
    "    \n",
    "    i=10\n",
    "    j=0\n",
    "    somme=0\n",
    "    while i>=1:\n",
    "        somme+= int(trm[i])*(2**j)\n",
    "        j+=1\n",
    "        i-=1\n",
    "    return somme\n",
    "\n",
    "    \n",
    "n=decodeTrame(\"10000001101\")\n",
    "print(n)"
   ]
  },
  {
   "cell_type": "code",
   "execution_count": 143,
   "metadata": {},
   "outputs": [
    {
     "name": "stdout",
     "output_type": "stream",
     "text": [
      "test ok\n"
     ]
    }
   ],
   "source": [
    "# ------------  TEST/EXEMPLE ---------- #\n",
    "def test_decodeTrame():\n",
    "    assert decodeTrame(\"00000001010\")==10\n",
    "    assert decodeTrame(\"10000011111\")== 31\n",
    "    assert decodeTrame(\"00000000000\")== 0\n",
    "    assert decodeTrame(\"10000010000\")== 16\n",
    "    print(\"test ok\")\n",
    "    \n",
    "test_decodeTrame()"
   ]
  },
  {
   "cell_type": "code",
   "execution_count": 144,
   "metadata": {},
   "outputs": [
    {
     "name": "stdout",
     "output_type": "stream",
     "text": [
      "00000001010 est le codage de 10\n"
     ]
    }
   ],
   "source": [
    "# ------------  TEST/EXEMPLE ---------- #\n",
    "print(\"00000001010 est le codage de\", decodeTrame(\"00000001010\"))"
   ]
  },
  {
   "cell_type": "markdown",
   "metadata": {
    "deletable": false,
    "editable": false,
    "run_control": {
     "frozen": true
    }
   },
   "source": [
    "### Question 5 : Programme principal\n",
    "On souhaite pouvoir transmettre des nombres entre 0 et 1023 (qui est le plus grand entier que l'on écrire sur 10 bits).\n",
    "\n",
    "- Demander à l'utilisateur de saisir un nombre en utilisant la fonction de saisie contrôlée appropriée définie dans la partie préliminaire.\n",
    "- Coder ce nombre selon le codage à bit de parité simple à l'aide de la fonction définie précédemment.\n",
    "- Afficher ce codage.\n",
    "- Après avoir vérifié que la trame est correcte, decoder l'information à l'aide de la fonction définie pour cela.\n",
    "- Afficher le nombre obtenu.\n",
    "- Vérifier qu'il s'agit du nombre initial."
   ]
  },
  {
   "cell_type": "code",
   "execution_count": 146,
   "metadata": {},
   "outputs": [
    {
     "name": "stdout",
     "output_type": "stream",
     "text": [
      "Saisir un entier compris entre 0 et 1023\n",
      "1024\n",
      "Saisir un entier compris entre 0 et 1023\n",
      "1023\n",
      "bin =  1111111111\n",
      "01111111111\n",
      "True\n",
      "1023\n",
      "Il s'agit du nombre initial\n"
     ]
    }
   ],
   "source": [
    "#programme principal\n",
    "\"\"\"\n",
    "demande à l’utilisateur de saisir un nombre compris en 0 et 1023 en utilisant la fonction saisieIntPos10Bits\n",
    "Converti le nombre selon le code à bit de parité simple\n",
    "décode ce même nombre à l’aide de la fonction décodeTrame\n",
    "vérifie qu’il s’agit bien du nombre initialement entré par l’utilisateur\n",
    "\"\"\"\n",
    "\n",
    "n=saisieIntPos10Bits()\n",
    "nb=trame(n)\n",
    "print(nb)\n",
    "t=verifTrame(nb)\n",
    "print(t)\n",
    "trm=decodeTrame(nb)\n",
    "print(trm)\n",
    "if n==trm:\n",
    "    print(\"Il s'agit du nombre initial\")\n",
    "else:\n",
    "    print(\"Il ne s'agit pas du nombre initial\")"
   ]
  },
  {
   "cell_type": "markdown",
   "metadata": {},
   "source": [
    "## 2ème partie : Chiffrement de César"
   ]
  },
  {
   "cell_type": "markdown",
   "metadata": {
    "deletable": false,
    "editable": false,
    "run_control": {
     "frozen": true
    }
   },
   "source": [
    "Le chiffrement de César est une des plus anciennes méthodes de cryptographie. Il repose sur la rotation vers la droite de l’alphabet d’un nombre fixé de caractères. \n",
    "\n",
    "Par exemple, si on considère une rotation de 3 positions, on obtient pour les lettres minuscules la table de conversion ci-dessous :\n",
    "\n",
    "\n",
    "\n",
    "|lettre originale|a|b|c|d|e|f|g|h|i|j|k|l|m|n|o|p|q|r|s|t|u|v|w|x|y|z|\n",
    "|----------------|-|-|-|-|-|-|-|-|-|-|-|-|-|-|-|-|-|-|-|-|-|-|-|-|-|-|\n",
    "|lettre codée    |d|e|f|g|h|i|j|k|l|m|n|o|p|q|r|s|t|u|v|w|x|y|z|a|b|c|\n",
    "\n",
    "On a une table analogue pour les lettres majuscules. Les autres caractères ne sont pas cryptés mais simplement recopiés. \n",
    " \n",
    "Pour la rotation de 3 positions, si la phrase à chiffrer est `bonjour, il fait beau`, le message chiffré est alors `erqmrxu, lo idlw ehdx`. \n",
    "\n",
    "Il est bien sûr possible de changer le nombre de positions\n",
    "correspondant à la rotation. Ainsi, si l'on décide de décaler d'une seule position, le même message est alors chiffré en `cpokpvs jm gbju cfbv`. \n",
    "\n",
    "Le nombre correspondant à la rotation est appelé la *clé* du code\n",
    "car il permet le déchiffrementdu message. *La clé est un entier\n",
    "  compris entre 1 et 25*.\n",
    "\n",
    "L'objectif est d'écrire des fonctions de chiffrement et de déchiffrement de textes pour le code de César."
   ]
  },
  {
   "cell_type": "markdown",
   "metadata": {
    "deletable": false,
    "editable": false,
    "run_control": {
     "frozen": true
    }
   },
   "source": [
    "### Question 1 : Chiffrement d'un caractère\n",
    "Ecrire une fonction `chiffreCar_cesar` prenant en paramètres\n",
    "un caractère et la clé de chiffrement.  Cette fonction retournera le\n",
    "caractère codé si le caractère est une lettre minuscule ou majuscule. Sinon, la fonction renverra le caractère initial.  Ainsi `chiffreCar_cesar('a',3)` renvoie `'d'`, `chiffreCar_cesar('d', 23)` renvoie `'a'`, `chiffreCar_cesar('C',4)` renvoie `'G'`.\n",
    "\n",
    "**Indications :** \n",
    "On rappelle que l'on peut comparer des caractères avec les opérateurs `<,>, ==`et `!=`.\n",
    "\n",
    "La fonction `ord(c)` retourne le code Unicode du caractère `c` et la fonction `chr(i)` retourne la lettre dont le code Unicode est `i`. Par exemple :\n",
    "  ```python\n",
    "  uni = ord(\"a\") # uni vaut 97 car l'unicode de \"a\" est 97\n",
    "  lettre = chr(98)  # lettre vaut \"b\" car 98 est son unicode\n",
    "  print( chr(ord(\"a\")) == \"a\") # affiche True\n",
    "  ```\n",
    "  \n",
    "On rappelle que les unicodes des lettres minuscules sont consécutifs, compris entre 97 et 122  et suivent l'ordre alphabétique :  l'unicode de `'a'` est 97, celui de `'b'` est 98, etc, celui de `'z'` est 12. Il en est de même pour les unicodes des lettres majuscules qui varient de 65 pour `'A'`à 90 pour `'Z'`."
   ]
  },
  {
   "cell_type": "code",
   "execution_count": 158,
   "metadata": {},
   "outputs": [
    {
     "name": "stdout",
     "output_type": "stream",
     "text": [
      "D\n"
     ]
    }
   ],
   "source": [
    "def chiffreCar_cesar(car,cle):\n",
    "    \"\"\"\n",
    "    chiffre un caractère \n",
    "    s’effectue en fonction des Unicodes appartenant aux lettres de l’alphabet\n",
    "    :param car: le caractère entré lors de l’appel de fonction\n",
    "    :param cle: correspond au décalage voulu pour coder la lettre \n",
    "    \"\"\"\n",
    "    \n",
    "    if ord(car)>=97 and ord(car)<=122 :\n",
    "        n=ord(car)\n",
    "        n+=cle\n",
    "        if n>122:\n",
    "            n-=26\n",
    "        chiffre=chr(n)\n",
    "    elif ord(car)>=65 and ord(car)<=90:\n",
    "        n=ord(car)\n",
    "        n+=cle\n",
    "        if n>90:\n",
    "            n-=26\n",
    "        chiffre=chr(n)\n",
    "    else: \n",
    "        return car\n",
    "    return chiffre\n",
    "\n",
    "    \n",
    "res=chiffreCar_cesar(\"Q\",13)\n",
    "print(res)"
   ]
  },
  {
   "cell_type": "code",
   "execution_count": 159,
   "metadata": {},
   "outputs": [
    {
     "name": "stdout",
     "output_type": "stream",
     "text": [
      "test OK\n"
     ]
    }
   ],
   "source": [
    "# ------------  TEST/EXEMPLE ---------- #\n",
    "def test_chiffreCar_cesar():\n",
    "    assert chiffreCar_cesar('a',3)=='d'\n",
    "    assert chiffreCar_cesar('d', 23) =='a'\n",
    "    assert chiffreCar_cesar('C',4)=='G'\n",
    "    assert chiffreCar_cesar('@',17)=='@'\n",
    "    print(\"test OK\")\n",
    "    \n",
    "test_chiffreCar_cesar()"
   ]
  },
  {
   "cell_type": "markdown",
   "metadata": {
    "deletable": false,
    "editable": false,
    "run_control": {
     "frozen": true
    }
   },
   "source": [
    "### Question 2 : Chiffrement d'une chaîne de caractères\n",
    "\n",
    "En utilisant la fonction `chiffreCar_cesar`, écrire une fonction `chiffre_cesar` qui prend en paramètres une chaîne de caractères et la clé de chiffrement et qui retourne la chaîne chiffrée. "
   ]
  },
  {
   "cell_type": "code",
   "execution_count": 161,
   "metadata": {},
   "outputs": [
    {
     "name": "stdout",
     "output_type": "stream",
     "text": [
      "erqmrxu, lo idlw ehdx\n"
     ]
    }
   ],
   "source": [
    "def chiffre_cesar(chaine,cle):\n",
    "    \"\"\"\n",
    "    retourne une chaine de caractère chiffré en utilisant la fonction chiffreCar_cesar\n",
    "    :param chaine: chaine de caractère entré lors de l’appel de fonction\n",
    "    :param cle: correspond au chiffrement que l’on veut appliquer\n",
    "    :return : la chaine de caractère chiffré\n",
    "    \"\"\"\n",
    "    \n",
    "    i=0\n",
    "    c=\"\"\n",
    "    while i<len(chaine):\n",
    "        c+=chiffreCar_cesar(chaine[i],cle)\n",
    "        i+=1\n",
    "    return c\n",
    "        \n",
    "        \n",
    "res=chiffre_cesar(\"bonjour, il fait beau\",3)\n",
    "print(res)"
   ]
  },
  {
   "cell_type": "code",
   "execution_count": 162,
   "metadata": {
    "scrolled": true
   },
   "outputs": [
    {
     "name": "stdout",
     "output_type": "stream",
     "text": [
      "Test ok\n"
     ]
    }
   ],
   "source": [
    "# ------------  TEST/EXEMPLE ---------- #\n",
    "def test_chiffre_cesar():\n",
    "    assert chiffre_cesar(\"bonjour, il fait beau\",3)== \"erqmrxu, lo idlw ehdx\"\n",
    "    assert chiffre_cesar(\"Bonjour\",7)==\"Ivuqvby\"\n",
    "    assert chiffre_cesar(\"C'est super la cryptographie\",5)== \"H'jxy xzujw qf hwduytlwfumnj\"\n",
    "    print(\"Test ok\")\n",
    "\n",
    "test_chiffre_cesar()"
   ]
  },
  {
   "cell_type": "markdown",
   "metadata": {
    "deletable": false,
    "editable": false,
    "run_control": {
     "frozen": true
    }
   },
   "source": [
    "### Question 3\n",
    "Ecrire une fonction `dechiffre_cesar()` permettant de\n",
    "déchiffrer un message codé avec le chiffrement de César. Cette fonction prendra comme paramètres la chaîne chiffrée et la clé de chiffrement.\n",
    "\n",
    "**Remarque**: Les valeurs des clés de chiffrement et de déchiffrement sont liées : la somme de la valeur de la clé de codage et de celle de décodage est égale à 26.  Ainsi si le codage est fait avec la clé 3, le décodage se fait avec la clé 23. Si le codage est fait avec la clé 10, le décodage se fait avec la clé 16."
   ]
  },
  {
   "cell_type": "code",
   "execution_count": 163,
   "metadata": {},
   "outputs": [
    {
     "name": "stdout",
     "output_type": "stream",
     "text": [
      "bonjour, il fait beau\n"
     ]
    }
   ],
   "source": [
    "def dechiffre_cesar(chaine,cle):\n",
    "    \"\"\"\n",
    "    permet de déchiffrer un message codé avec le chiffrement de César\n",
    "    :param chaine: correspond à la chaine de caractère chiffré\n",
    "    :param cle: correspond au décalage utilisé pour décoder l’information\n",
    "    \"\"\"\n",
    "    \n",
    "    cle=26-cle\n",
    "    c=chiffre_cesar(chaine,cle)\n",
    "    return c\n",
    "    \n",
    "\n",
    "\n",
    "res=dechiffre_cesar('erqmrxu, lo idlw ehdx' , 3)\n",
    "print(res)"
   ]
  },
  {
   "cell_type": "code",
   "execution_count": 164,
   "metadata": {},
   "outputs": [
    {
     "name": "stdout",
     "output_type": "stream",
     "text": [
      "Test ok\n"
     ]
    }
   ],
   "source": [
    "# ------------  TEST/EXEMPLE ---------- #\n",
    "def test_dechiffre_cesar():\n",
    "    assert dechiffre_cesar(\"uryyb JBEYQ\",13)==\"hello WORLD\"\n",
    "    assert dechiffre_cesar(\"Ivuqvby\",7)==\"Bonjour\"\n",
    "    assert dechiffre_cesar(\"jgnnq YQTNF\",2)==\"hello WORLD\"\n",
    "    print(\"Test ok\")\n",
    "    \n",
    "test_dechiffre_cesar()"
   ]
  },
  {
   "cell_type": "markdown",
   "metadata": {
    "deletable": false,
    "editable": false,
    "run_control": {
     "frozen": true
    }
   },
   "source": [
    "### Question 4 : \"C'est super la cryptographie\"\n",
    "Ecrire un progamme qui vérifie que le message `C'est super la cryptographie !` chiffré avec la clé 5 donne `H'jxy xzujw qf hwduytlwfumnj !` et que le déchiffrement de cette chaîne avec la clé 5 redonne bien `C'est super la cryptographie !`."
   ]
  },
  {
   "cell_type": "code",
   "execution_count": 166,
   "metadata": {},
   "outputs": [
    {
     "name": "stdout",
     "output_type": "stream",
     "text": [
      "le chiffrement donne bien le bon message\n",
      "le déchiffrement redonne bien le bon message\n"
     ]
    }
   ],
   "source": [
    "\"\"\"\n",
    "vérifie que le codage de la phrase donne le bon message \n",
    "vérifie que le décodage de la phrase redonne le bon message\n",
    "\"\"\"\n",
    "\n",
    "if chiffre_cesar(\"C'est super la cryptographie !\",5)== \"H'jxy xzujw qf hwduytlwfumnj !\":\n",
    "    print(\"le chiffrement donne bien le bon message\")\n",
    "else:\n",
    "    print(\"Erreur\")\n",
    "if dechiffre_cesar(\"H'jxy xzujw qf hwduytlwfumnj !\",5)== \"C'est super la cryptographie !\":\n",
    "    print(\"le déchiffrement redonne bien le bon message\")\n",
    "else:\n",
    "    print(\"Erreur\")"
   ]
  },
  {
   "cell_type": "markdown",
   "metadata": {
    "deletable": false,
    "editable": false,
    "run_control": {
     "frozen": true
    }
   },
   "source": [
    "### Question 5 : ROT 13\n",
    "\n",
    "Un cas particulier du chiffrement de César est le chiffrement [ROT13](https://fr.wikipedia.org/wiki/ROT13) qui correspond au chiffrement de César avec la clé 13. L'intérêt de ce chiffrement est que le chiffrement correspond au déchiffrement.\n",
    "Définir les fonctions `chiffre_ROT13` et `dechiffre_ROT13` en utilisant la fonction `chiffre_cesar`.\n",
    "\n",
    "Afficher le chiffrement de `hello world` selon le chiffrement ROT13. Déchiffrer le message obtenu, afficher le résultat et vérifier que c'est bien `hello word`."
   ]
  },
  {
   "cell_type": "code",
   "execution_count": 167,
   "metadata": {},
   "outputs": [
    {
     "name": "stdout",
     "output_type": "stream",
     "text": [
      "uryyb jbeyq\n",
      "hello world\n"
     ]
    }
   ],
   "source": [
    "def chiffre_ROT13(car):\n",
    "    \"\"\"\n",
    "    chiffre les messages avec la clé 13 du chiffrement de César \n",
    "    :param car: correspond au message à chiffré\n",
    "    \"\"\"\n",
    "    \n",
    "    return chiffre_cesar(car,13)\n",
    "\n",
    "def dechiffre_ROT13(car):\n",
    "    \"\"\"\n",
    "    déchiffre les messages avec la clé 13 du chiffrement de César \n",
    "    :param car: correspond au message à chiffré\n",
    "    \"\"\"\n",
    "    \n",
    "    return dechiffre_cesar(car,13)\n",
    "\n",
    "\n",
    "res1=chiffre_ROT13(\"hello world\")\n",
    "print(res1)\n",
    "res2=dechiffre_ROT13(\"uryyb jbeyq\")\n",
    "print(res2)"
   ]
  },
  {
   "cell_type": "code",
   "execution_count": 168,
   "metadata": {},
   "outputs": [
    {
     "name": "stdout",
     "output_type": "stream",
     "text": [
      "Test ok\n"
     ]
    }
   ],
   "source": [
    "# ------------  TEST/EXEMPLE ---------- #\n",
    "def test_chiffre_ROT13():\n",
    "    assert chiffre_ROT13(\"hello world\")==\"uryyb jbeyq\"\n",
    "    print(\"Test ok\")\n",
    "\n",
    "test_chiffre_ROT13()"
   ]
  },
  {
   "cell_type": "code",
   "execution_count": 169,
   "metadata": {},
   "outputs": [
    {
     "name": "stdout",
     "output_type": "stream",
     "text": [
      "Test ok\n"
     ]
    }
   ],
   "source": [
    "# ------------  TEST/EXEMPLE ---------- #\n",
    "def test_dechiffre_ROT13():\n",
    "    assert dechiffre_ROT13(\"uryyb jbeyq\")==\"hello world\"\n",
    "    print(\"Test ok\")\n",
    "\n",
    "test_dechiffre_ROT13()"
   ]
  },
  {
   "cell_type": "markdown",
   "metadata": {
    "deletable": false,
    "editable": false,
    "run_control": {
     "frozen": true
    }
   },
   "source": [
    "### Question 6 : Vulnérabilité du code de César\n",
    "\n",
    "Le code de César est très simple, il nécessite seulement que le destinataire connaisse la clé de chiffrement. Il est également très vulnérable.\n",
    "\n",
    "Comment déchiffrer `oaz jk borrkzgtkayk` ? \n",
    "\n",
    "Ecrire une fonction `hackCesar` qui prend en paramètre un message chiffré et affiche tous les décodages possibles. \n",
    "\n",
    "Qu'est-ce qui se cache derrière le message  `oaz jk borrkzgtkayk`?"
   ]
  },
  {
   "cell_type": "code",
   "execution_count": 170,
   "metadata": {},
   "outputs": [
    {
     "name": "stdout",
     "output_type": "stream",
     "text": [
      "oaz jk borrkzgtkayk\n",
      "nzy ij anqqjyfsjzxj\n",
      "myx hi zmppixeriywi\n",
      "lxw gh yloohwdqhxvh\n",
      "kwv fg xknngvcpgwug\n",
      "jvu ef wjmmfubofvtf\n",
      "iut de villetaneuse\n",
      "hts cd uhkkdszmdtrd\n",
      "gsr bc tgjjcrylcsqc\n",
      "frq ab sfiibqxkbrpb\n",
      "eqp za rehhapwjaqoa\n",
      "dpo yz qdggzovizpnz\n",
      "con xy pcffynuhyomy\n",
      "bnm wx obeexmtgxnlx\n",
      "aml vw naddwlsfwmkw\n",
      "zlk uv mzccvkrevljv\n",
      "ykj tu lybbujqdukiu\n",
      "xji st kxaatipctjht\n",
      "wih rs jwzzshobsigs\n",
      "vhg qr ivyyrgnarhfr\n",
      "ugf pq huxxqfmzqgeq\n",
      "tfe op gtwwpelypfdp\n",
      "sed no fsvvodkxoeco\n",
      "rdc mn eruuncjwndbn\n",
      "qcb lm dqttmbivmcam\n",
      "pba kl cpsslahulbzl\n",
      "None\n"
     ]
    }
   ],
   "source": [
    "def hackCesar(msg):\n",
    "    \"\"\"\n",
    "    permet d’afficher tous les déchiffrements possibles d’un message\n",
    "    :param msg: message chiffré \n",
    "    \"\"\"\n",
    "\n",
    "    i=0\n",
    "    while i < 26:\n",
    "        print(dechiffre_cesar(msg,i))\n",
    "        i+=1\n",
    "\n",
    "        \n",
    "res=hackCesar(\"oaz jk borrkzgtkayk\")\n",
    "print(res)"
   ]
  },
  {
   "cell_type": "code",
   "execution_count": 171,
   "metadata": {},
   "outputs": [
    {
     "name": "stdout",
     "output_type": "stream",
     "text": [
      "Test ok\n"
     ]
    }
   ],
   "source": [
    "# ------------  TEST/EXEMPLE ---------- #\n",
    "def test_hackCesar():\n",
    "    assert hackCesar(\"oaz jk borrkzgtkayk\")==\"iut de villetaneuse\"\n",
    "    assert hackCesar(\"oaz jk borrkzgtkayk\")==\"bnm wx obeexmtgxnlx\"\n",
    "    print(\"Test ok\")\n",
    "\n",
    "test_chiffre_ROT13()"
   ]
  },
  {
   "cell_type": "markdown",
   "metadata": {
    "deletable": false,
    "editable": false,
    "run_control": {
     "frozen": true
    }
   },
   "source": [
    "### Question 7 : Chiffrement d'un fichier \n",
    "\n",
    "- Ecrire une fonction `chiffre_fichier` prenant en paramètres le chemin `fichier` d'un fichier, une clé `clé` de chiffrement et le chemin d'un fichier `fichier_chiffré` et qui écrit dans `fichier_chiffré` la version chiffrée.\n",
    "\n",
    "- Tester cette fonction sur les fichiers `files/lorem.txt` puis `files/zadig.txt` avec des clés de votre choix."
   ]
  },
  {
   "cell_type": "code",
   "execution_count": 172,
   "metadata": {},
   "outputs": [],
   "source": [
    "#POUR LA QUESTION 7 ET 8, si le code ne s'exécute pas une fois, \n",
    "#il faut ré-exécuter jusqu'à que les fichiers se créent dans votre répertoire jupyter"
   ]
  },
  {
   "cell_type": "code",
   "execution_count": 181,
   "metadata": {},
   "outputs": [
    {
     "name": "stdout",
     "output_type": "stream",
     "text": [
      "le fichier 'fichier_chiffré.txt' a bien été créer\n"
     ]
    }
   ],
   "source": [
    "def chiffre_fichier(fichier,cle,fichier_chiffré):\n",
    "    \"\"\"\n",
    "    permet de chiffrer l’intégralité d’un fichier à l’aide de la fonction chiffre_cesar\n",
    "    écrit le fichier dans un autre fichier nommé fichier_chiffré.txt\n",
    "    :param fichier: correspond au fichier qu’on doit chiffrer\n",
    "    :param cle: correspond à la clé pour coder le fichier\n",
    "    :param fichier_chiffré: correspond au fichier chiffré\n",
    "    \"\"\"\n",
    "    \n",
    "    f_input = open(fichier, \"r\")\n",
    "    a=f_input.readline()\n",
    "    f_output = open(fichier_chiffré, \"w\")\n",
    "    while (a!=\"\"):\n",
    "        b=chiffre_cesar(a, cle)\n",
    "        f_output.write(b)\n",
    "        a=f_input.readline()\n",
    "    f_output.close()\n",
    "\n",
    "\n",
    "chiffre_fichier(\"zadig.txt\",10,\"fichier_chiffré.txt\")\n",
    "print(\"le fichier 'fichier_chiffré.txt' a bien été créée\")"
   ]
  },
  {
   "cell_type": "markdown",
   "metadata": {
    "deletable": false,
    "editable": false,
    "run_control": {
     "frozen": true
    }
   },
   "source": [
    "### Question 8 : Déchiffrement d'un fichier \n",
    "- Ecrire une fonction qui prend en paramètres un fichier chiffré `fichier_chiffré` et la clé de chiffrement et qui écrit dans `fichier_déchiffré` ce qui a été déchiffré.\n",
    "\n",
    "- Tester cette fonction sur les chiffrés des fichiers `files/lorem.txt` puis `files/zadig.txt` et les clés adaptées.\n",
    "\n",
    "- Vérifier dans un terminal grâce à la fonction `diff` que la version déchiffrée des fichiers est bien la même que la version d'origine. "
   ]
  },
  {
   "cell_type": "code",
   "execution_count": 182,
   "metadata": {},
   "outputs": [
    {
     "name": "stdout",
     "output_type": "stream",
     "text": [
      "le fichier 'fichier_dechiffré.txt' a bien été créée\n"
     ]
    }
   ],
   "source": [
    "def dechiffre_fichier(fichier_chiffré,cle,fichier_déchiffré): \n",
    "    \"\"\"\n",
    "    permet de déchiffrer l’intégralité d’un fichier chiffré à l’aide de la fonction dechiffre_cesar\n",
    "    :param fichier_chiffré: correspond au fichier chiffré\n",
    "    :param cle: correspond à la clé pour décoder le fichier\n",
    "    :param fichier_déchiffré: correspond au fichier déchiffré\n",
    "    \"\"\"\n",
    "    f_input = open(fichier_chiffré, \"r\")\n",
    "    a=f_input.readline()\n",
    "    f_output = open(fichier_déchiffré, \"w\")\n",
    "    while (a!=\"\"):\n",
    "        b=dechiffre_cesar(a, cle)\n",
    "        f_output.write(b)\n",
    "        a=f_input.readline()\n",
    "    f_output.close()\n",
    "\n",
    "\n",
    "dechiffre_fichier(\"fichier_chiffré.txt\",10,\"fichier_dechiffré.txt\")\n",
    "print(\"le fichier 'fichier_dechiffré.txt' a bien été créée\")"
   ]
  }
 ],
 "metadata": {
  "@webio": {
   "lastCommId": "c50371d2dac64fcc92a95e4a4ae17324",
   "lastKernelId": "b531d981-5992-4ac6-88e2-878a76aa508a"
  },
  "kernelspec": {
   "display_name": "Python 3",
   "language": "python",
   "name": "python3"
  },
  "language_info": {
   "codemirror_mode": {
    "name": "ipython",
    "version": 3
   },
   "file_extension": ".py",
   "mimetype": "text/x-python",
   "name": "python",
   "nbconvert_exporter": "python",
   "pygments_lexer": "ipython3",
   "version": "3.6.8"
  },
  "latex_envs": {
   "LaTeX_envs_menu_present": true,
   "autoclose": false,
   "autocomplete": true,
   "bibliofile": "biblio.bib",
   "cite_by": "apalike",
   "current_citInitial": 1,
   "eqLabelWithNumbers": true,
   "eqNumInitial": 1,
   "hotkeys": {
    "equation": "Ctrl-E",
    "itemize": "Ctrl-I"
   },
   "labels_anchors": false,
   "latex_user_defs": false,
   "report_style_numbering": false,
   "user_envs_cfg": false
  },
  "toc": {
   "base_numbering": 1,
   "nav_menu": {},
   "number_sections": true,
   "sideBar": true,
   "skip_h1_title": true,
   "title_cell": "Table des matières",
   "title_sidebar": "Table des matières",
   "toc_cell": false,
   "toc_position": {},
   "toc_section_display": true,
   "toc_window_display": false
  },
  "varInspector": {
   "cols": {
    "lenName": 16,
    "lenType": 16,
    "lenVar": 40
   },
   "kernels_config": {
    "python": {
     "delete_cmd_postfix": "",
     "delete_cmd_prefix": "del ",
     "library": "var_list.py",
     "varRefreshCmd": "print(var_dic_list())"
    },
    "r": {
     "delete_cmd_postfix": ") ",
     "delete_cmd_prefix": "rm(",
     "library": "var_list.r",
     "varRefreshCmd": "cat(var_dic_list()) "
    }
   },
   "types_to_exclude": [
    "module",
    "function",
    "builtin_function_or_method",
    "instance",
    "_Feature"
   ],
   "window_display": false
  }
 },
 "nbformat": 4,
 "nbformat_minor": 2
}

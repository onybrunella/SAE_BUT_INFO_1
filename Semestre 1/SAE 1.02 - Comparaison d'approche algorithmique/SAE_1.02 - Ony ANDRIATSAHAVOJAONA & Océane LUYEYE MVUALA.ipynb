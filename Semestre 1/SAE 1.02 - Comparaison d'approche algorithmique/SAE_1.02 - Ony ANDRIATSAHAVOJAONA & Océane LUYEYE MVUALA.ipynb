{
 "cells": [
  {
   "cell_type": "markdown",
   "id": "edac8271",
   "metadata": {},
   "source": [
    "## SAE S1.02 : ARN et protéïnes ##"
   ]
  },
  {
   "cell_type": "markdown",
   "id": "4bbf1efa",
   "metadata": {},
   "source": [
    "Ce document correspond au sujet de la SAÉ S1.02 de l'année universitaire 2021/2022. Ce travail est à faire par binôme en autonomie.\n",
    "La SAÉ est découpée en deux parties.\n",
    "La première partie devra être rendue avant le 5 décembre et la deuxième partie avant le 16 janvier.\n",
    "Attention : L'évaluation de cette SAÉ se fera notamment durant les contrôles de R101. L'évaluation de la partie 1 de la SAÉ se fera en partie lors du troisième contrôle de  la ressource R101 (prévu le 8 décembre 2021). L'évaluation de la partie 2 se fera en partie lors du dernier contrôle de R101 (prévu le 21 janvier 2022). Pour les contrôles, il faut connaître le sujet et le code (les structures de données utilisées et les diffférentes fonctions)."
   ]
  },
  {
   "cell_type": "markdown",
   "id": "ca4526a6",
   "metadata": {},
   "source": [
    "## Sujet ##"
   ]
  },
  {
   "cell_type": "markdown",
   "id": "a6e8ea8a",
   "metadata": {},
   "source": [
    "## Partie 1 ##"
   ]
  },
  {
   "cell_type": "markdown",
   "id": "78e45930",
   "metadata": {},
   "source": [
    "Les exercices s'appuient sur la notion d'ADN/ARN. On supposera dans l'ensemble des exercices que l'ADN est codé sous la forme d'une chaîne de caractères contenant uniquement les lettres majuscules A, T, G, C correspondant aux différentes bases (adénine, cytosine, guanine ou thymine).\n",
    "L'ARN sera codé sous la forme d'une chaîne de caractères contenant uniquement les lettres majuscules A, U, G, C.\n",
    "\n"
   ]
  },
  {
   "cell_type": "markdown",
   "id": "1587d9bc",
   "metadata": {},
   "source": [
    "# Question 1 #"
   ]
  },
  {
   "cell_type": "markdown",
   "id": "d353f5cd",
   "metadata": {},
   "source": [
    "Définir la fonction est_base prenant en paramètre un caractère et retournant True si ce caractère correspond à une base de l'ADN (est un des caractères A, T, G, C), et False sinon.\n",
    "À titre d'exemple, l'appel de la fonction est_base avec la valeur \"A\" doit retourner True alors que l'appel avec la valeur \"z\" doit retourner False."
   ]
  },
  {
   "cell_type": "code",
   "execution_count": null,
   "id": "09bc58f1",
   "metadata": {},
   "outputs": [],
   "source": [
    "def est_base(c):\n",
    "\"\"\"\n",
    "Vérifie si la chaine de caractère contient les lettres A,T,G,C\n",
    ":param  c : str contenant la représentation d'une base de l'ADN\n",
    ":return bool , True -> chaine de caractère correspondant à une base de l'ADN, False -> chaine de caractère contient d'autres lettres\n",
    "\"\"\""
   ]
  },
  {
   "cell_type": "code",
   "execution_count": 4,
   "id": "79542ec0",
   "metadata": {},
   "outputs": [
    {
     "name": "stdout",
     "output_type": "stream",
     "text": [
      "True\n"
     ]
    }
   ],
   "source": [
    "def est_base(c):\n",
    "    if c == \"A\" or c == \"T\" or c == \"G\" or c == \"C\":\n",
    "        return True\n",
    "    return False\n",
    "\n",
    "res = est_base(\"A\")\n",
    "print(res)\n"
   ]
  },
  {
   "cell_type": "code",
   "execution_count": 5,
   "id": "704cbd4c",
   "metadata": {},
   "outputs": [
    {
     "name": "stdout",
     "output_type": "stream",
     "text": [
      "Test de la fonction est_base = OK\n"
     ]
    }
   ],
   "source": [
    "# ------------  TEST/EXEMPLE ---------- #\n",
    "\n",
    "def test_est_base():\n",
    "    assert est_base(\"A\")== True\n",
    "    assert est_base(\"C\")== True\n",
    "    assert est_base(\"z\")== False\n",
    "    assert est_base(\"B\")== False\n",
    "    print(\"Test de la fonction est_base = OK\")\n",
    "\n",
    "test_est_base()"
   ]
  },
  {
   "cell_type": "markdown",
   "id": "90470c51",
   "metadata": {},
   "source": [
    "# Question 2 #"
   ]
  },
  {
   "cell_type": "markdown",
   "id": "6f247458",
   "metadata": {},
   "source": [
    "Définir la fonction est_adn prenant en paramètre une chaîne de caractères et retournant True si la chaîne correspond à un ADN (est constituée uniquement des caractères A, T, G, C), et False sinon.\n",
    "À titre d'exemple, l'appel de la fonction est_adn avec la valeur \"ATGTCAAA\" doit retourner True alors que l'appel avec la valeur \"ATBOAATG\" doit retourner False."
   ]
  },
  {
   "cell_type": "code",
   "execution_count": 6,
   "id": "3e03e370",
   "metadata": {},
   "outputs": [
    {
     "ename": "IndentationError",
     "evalue": "expected an indented block (<ipython-input-6-d17f7c9c43a6>, line 6)",
     "output_type": "error",
     "traceback": [
      "\u001b[0;36m  File \u001b[0;32m\"<ipython-input-6-d17f7c9c43a6>\"\u001b[0;36m, line \u001b[0;32m6\u001b[0m\n\u001b[0;31m    \"\"\"\u001b[0m\n\u001b[0m    ^\u001b[0m\n\u001b[0;31mIndentationError\u001b[0m\u001b[0;31m:\u001b[0m expected an indented block\n"
     ]
    }
   ],
   "source": [
    "def est_adn(s):\n",
    "\"\"\"\n",
    "Vérifie si la chaine de caractère contient uniquement les lettres A, T, G, C\n",
    ":param s : str correspond à un ADN \n",
    ":return bool , True -> chaine de caractère est uniquement constitué des lettres A, T, G, C , False -> chaine de caractère est constitué d'une autre lettre\n",
    "\"\"\""
   ]
  },
  {
   "cell_type": "code",
   "execution_count": 10,
   "id": "35f910ee",
   "metadata": {},
   "outputs": [
    {
     "name": "stdout",
     "output_type": "stream",
     "text": [
      "True\n"
     ]
    }
   ],
   "source": [
    "def est_adn(s):\n",
    "    i=0\n",
    "    compteur=0\n",
    "    while i<len(s):\n",
    "        if s[i]=='A' or s[i]=='T' or s[i]=='G' or s[i]=='C':\n",
    "            compteur+=1\n",
    "        i+=1\n",
    "    if compteur==len(s):\n",
    "        return True\n",
    "    return False\n",
    "\n",
    "res = est_adn(\"ATGTCAAA\")\n",
    "print(res)"
   ]
  },
  {
   "cell_type": "code",
   "execution_count": 11,
   "id": "63d8803c",
   "metadata": {},
   "outputs": [
    {
     "name": "stdout",
     "output_type": "stream",
     "text": [
      "Test de la fonction est_adn = OK\n"
     ]
    }
   ],
   "source": [
    "# ------------  TEST/EXEMPLE ---------- #\n",
    "\n",
    "def test_est_adn():\n",
    "    assert est_adn(\"ATGTCAAA\") == True\n",
    "    assert est_adn(\"ATBOAATG\") == False\n",
    "    print(\"Test de la fonction est_adn = OK\")\n",
    "\n",
    "test_est_adn()\n"
   ]
  },
  {
   "cell_type": "markdown",
   "id": "656925ef",
   "metadata": {},
   "source": [
    "# Question 3 #"
   ]
  },
  {
   "cell_type": "markdown",
   "id": "acb528b2",
   "metadata": {},
   "source": [
    "L'ARN est construit à partir de l'ADN en remplaçant la thymine T par l'uracile codé par la lettre U. Ainsi la transcription de la séquence ADN ATTGCA en ARN donne AUUGCA.\n",
    "Définir la fonction arn prenant en paramètre une séquence d'ADN et retournant la séquence ARN associée.\n",
    "À titre d'exemple, l'appel de la fonction arn avec la valeur \"ATGTCAAA\" doit retourner \"AUGUCAAA\".\n",
    "Attention : si la chaîne passée en paramètre ne correspond pas à de l'ADN, la fonction arn doit retourner la valeur None.\n",
    "\n"
   ]
  },
  {
   "cell_type": "code",
   "execution_count": null,
   "id": "938b052d",
   "metadata": {},
   "outputs": [],
   "source": [
    "def arn(adn):\n",
    "\"\"\"\n",
    "Converti la lettre 'T' correspondant à la séquence d'ADN en 'U' correspondant à l'ARN\n",
    ":param adn : str correspond à la chaine de caractère contenant la représentation d'ADN\n",
    ":return: str , une séquence d'ARN correspondant à  la séquence d'ADN , None -> la chaine de caractère ne correspond pas à de l'ADN\n",
    "\"\"\"\n"
   ]
  },
  {
   "cell_type": "code",
   "execution_count": 14,
   "id": "7766872b",
   "metadata": {},
   "outputs": [
    {
     "name": "stdout",
     "output_type": "stream",
     "text": [
      "AGUGGAAA\n"
     ]
    }
   ],
   "source": [
    "def arn(adn):\n",
    "    fct=est_adn(adn)\n",
    "    res=\"\"\n",
    "    i=0\n",
    "    while i<len(adn) and fct==True:\n",
    "        if adn[i]==\"T\":\n",
    "            res+=\"U\"\n",
    "        else:\n",
    "            res+=adn[i]\n",
    "        i+=1\n",
    "    if fct==False:\n",
    "        return None\n",
    "    return res\n",
    "\n",
    "res = arn(\"AGTGGAAA\")\n",
    "print(res)\n"
   ]
  },
  {
   "cell_type": "code",
   "execution_count": 15,
   "id": "fb58d4de",
   "metadata": {},
   "outputs": [
    {
     "name": "stdout",
     "output_type": "stream",
     "text": [
      "Test de la fonction arn = OK\n"
     ]
    }
   ],
   "source": [
    "# ------------  TEST/EXEMPLE ---------- #\n",
    "\n",
    "def test_arn():\n",
    "    assert arn(\"ATGTCAAA\") == (\"AUGUCAAA\")\n",
    "    assert arn(\"ATGTCZAA\") == None\n",
    "    assert arn(\"AGCGGAAA\") == (\"AGCGGAAA\")\n",
    "    print(\"Test de la fonction arn = OK\")\n",
    "\n",
    "test_arn()\n"
   ]
  },
  {
   "cell_type": "markdown",
   "id": "877b836c",
   "metadata": {},
   "source": [
    "# Question 4 #"
   ]
  },
  {
   "cell_type": "markdown",
   "id": "4637465d",
   "metadata": {},
   "source": [
    "Un codon est une séquence de trois bases sur un ARN (messager) spécifiant l'un des 22 acides aminés protéinogènes dont la succession sur l'ARN détermine la structure primaire de la protéine à synthétiser (définition issue de Wikipedia).\n",
    "\n",
    "Définir la fonction arn_to_codons prenant en paramètre une chaîne de caractères correspondant à de l'ARN et découpant cet ARN en codons. La fonction doit retourner un tableau contenant la liste des codons.\n",
    "Par exemple, l'appel de la fonction arn_to_codons avec l'ARN \"CGUUAGGGG\" doit retourner le tableau [\"CGU\", \"UAG\", \"GGG\"].\n",
    "Remarque : Si le nombre de nucléotides dans l'ARN n'est pas un multiple de 3, les derniers sont ignorés. Par exemple, les ARN \"CGUAAU\" et \"CGUAAUGC\" donnent tous les deux la séquence de codons [\"CGU\", \"AAU\"].\n",
    "\n"
   ]
  },
  {
   "cell_type": "code",
   "execution_count": null,
   "id": "94044510",
   "metadata": {},
   "outputs": [],
   "source": [
    "def arn_to_codons(arn):\n",
    "\"\"\"\n",
    "Découpe la chaine de carractère correspondant à l'ARN en codons\n",
    ":param arn : str correspond à la chaine de caractère contenant la représentation de l'ARN\n",
    ":return : str , un tableau contenant la liste des codons \n",
    "\"\"\""
   ]
  },
  {
   "cell_type": "code",
   "execution_count": 1,
   "id": "afa82ec4",
   "metadata": {},
   "outputs": [
    {
     "name": "stdout",
     "output_type": "stream",
     "text": [
      "['CGU', 'UAG', 'GGG']\n"
     ]
    }
   ],
   "source": [
    "def arn_to_codons(arn):\n",
    "    i=0\n",
    "    compteur=0\n",
    "    c=\"\"\n",
    "    res=[]\n",
    "    while i<len(arn):\n",
    "        c+=arn[i]\n",
    "        i+=1\n",
    "        compteur+=1\n",
    "        if compteur==3:\n",
    "           res.append(c)\n",
    "           c=\"\"\n",
    "           compteur=0\n",
    "    return res\n",
    "\n",
    "res= arn_to_codons(\"CGUUAGGGG\")\n",
    "print(res)"
   ]
  },
  {
   "cell_type": "code",
   "execution_count": 2,
   "id": "fa6122a9",
   "metadata": {},
   "outputs": [
    {
     "name": "stdout",
     "output_type": "stream",
     "text": [
      "Test de la fonction arn_to_codons = OK\n"
     ]
    }
   ],
   "source": [
    "# ------------  TEST/EXEMPLE ---------- #\n",
    "def test_arn_to_codons():\n",
    "    assert arn_to_codons(\"CGUUAGGGG\") == [\"CGU\", \"UAG\", \"GGG\"]\n",
    "    assert arn_to_codons(\"CGUAAU\") == [\"CGU\", \"AAU\"]\n",
    "    assert arn_to_codons(\"CCCGGGUUA\")==[\"CCC\",\"GGG\",\"UUA\"]\n",
    "    assert arn_to_codons(\"CGUAAUGC\") == [\"CGU\", \"AAU\"]\n",
    "    print(\"Test de la fonction arn_to_codons = OK\")\n",
    "\n",
    "test_arn_to_codons()\n"
   ]
  },
  {
   "cell_type": "markdown",
   "id": "4273e562",
   "metadata": {},
   "source": [
    "# Question 5 # \n"
   ]
  },
  {
   "cell_type": "markdown",
   "id": "38963f8d",
   "metadata": {},
   "source": [
    "Chaque codon correspond à un acide aminé.\n",
    "Par exemple, le codon UUU correspond à l'acide aminé Phenylalanine. Plusieurs codons correspondent à un même acide aminé.\n",
    "Certains codons, correspondant à la fin du séquençage des acides aminés, sont appelés codons stop. C'est le cas du codon UAA par exemple.\n",
    "Le fichier data/codons_aa.json contient la correspondance entre codons et acides aminés au format JSON. Les codons qui ne sont pas dans le fichier sont les codons stop.\n",
    "\n",
    "\n",
    "Définir la fonction load_dico_codons_aa qui prend en paramètre un fichier au format JSON et retourne la structure de données chargée en mémoire à partir du JSON.\n",
    "\n",
    "\n",
    "Définir la fonction codons_stop prenant en paramètre un dictionnaire dont les clés sont les codons et les valeurs les acides aminés correspondants (chaînes de caractères). La fonction retournera un tableau contenant l'ensemble des codons stop, c'est-à-dire l'ensemble des codons possibles avec les caractères AUGC qui ne sont pas des clés du dictionnaire.\n",
    "\n",
    "\n",
    "Remarque : Créer une variable initialisée avec les données contenues dans un fichier au format JSON se fait très facilement en python. Pour plus d'information, relire la fin du cours 9 du module M1102."
   ]
  },
  {
   "cell_type": "code",
   "execution_count": 7,
   "id": "e8aa632a",
   "metadata": {},
   "outputs": [
    {
     "name": "stdout",
     "output_type": "stream",
     "text": [
      "{'UUU': 'Phenylalanine', 'UUC': 'Phenylalanine', 'UUA': 'Leucine', 'UUG': 'Leucine', 'CUU': 'Leucine', 'CUC': 'Leucine', 'CUA': 'Leucine', 'CUG': 'Leucine', 'AUU': 'Isoleucine', 'AUC': 'Isoleucine', 'AUA': 'Methionine', 'AUG': 'Methionine', 'GUU': 'Valine', 'GUC': 'Valine', 'GUA': 'Valine', 'GUG': 'Valine', 'UCU': 'Serine', 'UCC': 'Serine', 'UCA': 'Serine', 'UCG': 'Serine', 'CCU': 'Proline', 'CCC': 'Proline', 'CCA': 'Proline', 'CCG': 'Proline', 'ACU': 'Threonine', 'ACC': 'Threonine', 'ACA': 'Threonine', 'ACG': 'Threonine', 'GCU': 'Alanine', 'GCC': 'Alanine', 'GCA': 'Alanine', 'GCG': 'Alanine', 'UAU': 'Tyrosine', 'UAC': 'Tyrosine', 'CAU': 'Histidine', 'CAC': 'Histidine', 'CAA': 'Glutamine', 'CAG': 'Glutamine', 'AAU': 'Asparagine', 'AAC': 'Asparagine', 'AAA': 'Lysine', 'AAG': 'Lysine', 'GAU': 'Aspartic acid', 'GAC': 'Aspartic acid', 'GAA': 'Glutamic acid', 'GAG': 'Glutamic acid', 'UGU': 'Cysteine', 'UGC': 'Cysteine', 'UGA': 'Tryptophan', 'UGG': 'Tryptophan', 'CGU': 'Arginine', 'CGC': 'Arginine', 'CGA': 'Arginine', 'CGG': 'Arginine', 'AGU': 'Serine', 'AGC': 'Serine', 'GGU': 'Glycine', 'GGC': 'Glycine', 'GGA': 'Glycine', 'GGG': 'Glycine'}\n"
     ]
    }
   ],
   "source": [
    "import json\n",
    "\n",
    "def load_dico_codons_aa(filename):\n",
    "    \n",
    "    \"\"\"\n",
    "    Ouvre et lis le fichier passé en paramètre\n",
    "    :param filename : str correspond au fichier JSON \n",
    "    :return : str, la structure de données chargée en mémoie\n",
    "    \"\"\"\n",
    "    t = open('data/codons_aa.json', 'r')\n",
    "    fichier = t.read()\n",
    "    t.close()\n",
    "    res = json.loads(fichier)\n",
    "    return res\n",
    "\n",
    "res=load_dico_codons_aa('data/codons_aa.json')\n",
    "print(res)\n"
   ]
  },
  {
   "cell_type": "code",
   "execution_count": 8,
   "id": "0f11140e",
   "metadata": {},
   "outputs": [
    {
     "name": "stdout",
     "output_type": "stream",
     "text": [
      "['AGA', 'AGG', 'UAA', 'UAG']\n"
     ]
    }
   ],
   "source": [
    "def codons_stop(dico):\n",
    "    \n",
    "    \"\"\"\n",
    "    Parcours le dictionnaire et retranscrit les différents codage possibles avec la liste['A','U','G','C']\n",
    "    :param dico :str correspond aux chaines de carractères représentant les codons associés à leur acides aminés \n",
    "    :return : str , un tableau contenant l'ensemble des différentes codons stop qui ne figure pas dans les clés du dictionnaire\n",
    "    \"\"\"\n",
    "    \n",
    "    t=[\"A\",\"U\",\"G\",\"C\"]\n",
    "    res=[]\n",
    "    c=\"\"\n",
    "    i=0\n",
    "    while i<len(t):\n",
    "        j=0\n",
    "        while j<len(t):\n",
    "            k=0\n",
    "            while k<len(t):\n",
    "                c+=(t[i]+t[j]+t[k])\n",
    "                res.append(c)\n",
    "                if c in list(dico) :\n",
    "                    res.pop()\n",
    "                c=\"\"\n",
    "                k+=1\n",
    "            j+=1\n",
    "        i+=1\n",
    "    return res\n",
    "\n",
    "res= codons_stop(load_dico_codons_aa('codons_aa.json'))\n",
    "print(res)"
   ]
  },
  {
   "cell_type": "code",
   "execution_count": 9,
   "id": "d38e8425",
   "metadata": {},
   "outputs": [
    {
     "name": "stdout",
     "output_type": "stream",
     "text": [
      "Test de la fonction load_dico_codons_aa = OK\n"
     ]
    }
   ],
   "source": [
    "# ------------  TEST/EXEMPLE ---------- #\n",
    "def test_load_dico_codons_aa():\n",
    "    assert load_dico_codons_aa('codons_aa.json')=={\n",
    "    \"UUU\": \"Phenylalanine\",\n",
    "    \"UUC\": \"Phenylalanine\",\n",
    "    \"UUA\": \"Leucine\",\n",
    "    \"UUG\": \"Leucine\",\n",
    "    \"CUU\": \"Leucine\",\n",
    "    \"CUC\": \"Leucine\",\n",
    "    \"CUA\": \"Leucine\",\n",
    "    \"CUG\": \"Leucine\",\n",
    "    \"AUU\": \"Isoleucine\",\n",
    "    \"AUC\": \"Isoleucine\",\n",
    "    \"AUA\": \"Methionine\",\n",
    "    \"AUG\": \"Methionine\",\n",
    "    \"GUU\": \"Valine\",\n",
    "    \"GUC\": \"Valine\",\n",
    "    \"GUA\": \"Valine\",\n",
    "    \"GUG\": \"Valine\",\n",
    "    \"UCU\": \"Serine\",\n",
    "    \"UCC\": \"Serine\",\n",
    "    \"UCA\": \"Serine\",\n",
    "    \"UCG\": \"Serine\",\n",
    "    \"CCU\": \"Proline\",\n",
    "    \"CCC\": \"Proline\",\n",
    "    \"CCA\": \"Proline\",\n",
    "    \"CCG\": \"Proline\",\n",
    "    \"ACU\": \"Threonine\",\n",
    "    \"ACC\": \"Threonine\",\n",
    "    \"ACA\": \"Threonine\",\n",
    "    \"ACG\": \"Threonine\",\n",
    "    \"GCU\": \"Alanine\",\n",
    "    \"GCC\": \"Alanine\",\n",
    "    \"GCA\": \"Alanine\",\n",
    "    \"GCG\": \"Alanine\",\n",
    "    \"UAU\": \"Tyrosine\",\n",
    "    \"UAC\": \"Tyrosine\",\n",
    "    \"CAU\": \"Histidine\",\n",
    "    \"CAC\": \"Histidine\",\n",
    "    \"CAA\": \"Glutamine\",\n",
    "    \"CAG\": \"Glutamine\",\n",
    "    \"AAU\": \"Asparagine\",\n",
    "    \"AAC\": \"Asparagine\",\n",
    "    \"AAA\": \"Lysine\",\n",
    "    \"AAG\": \"Lysine\",\n",
    "    \"GAU\": \"Aspartic acid\",\n",
    "    \"GAC\": \"Aspartic acid\",\n",
    "    \"GAA\": \"Glutamic acid\",\n",
    "    \"GAG\": \"Glutamic acid\",\n",
    "    \"UGU\": \"Cysteine\",\n",
    "    \"UGC\": \"Cysteine\",\n",
    "    \"UGA\": \"Tryptophan\",\n",
    "    \"UGG\": \"Tryptophan\",\n",
    "    \"CGU\": \"Arginine\",\n",
    "    \"CGC\": \"Arginine\",\n",
    "    \"CGA\": \"Arginine\",\n",
    "    \"CGG\": \"Arginine\",\n",
    "    \"AGU\": \"Serine\",\n",
    "    \"AGC\": \"Serine\",\n",
    "    \"GGU\": \"Glycine\",\n",
    "    \"GGC\": \"Glycine\",\n",
    "    \"GGA\": \"Glycine\",\n",
    "    \"GGG\": \"Glycine\"\n",
    "}\n",
    "    assert load_dico_codons_aa('data/codons_aa.json')!={}\n",
    "    print(\"Test de la fonction load_dico_codons_aa = OK\")\n",
    "\n",
    "test_load_dico_codons_aa()"
   ]
  },
  {
   "cell_type": "code",
   "execution_count": 10,
   "id": "f74cd346",
   "metadata": {},
   "outputs": [
    {
     "name": "stdout",
     "output_type": "stream",
     "text": [
      "Test de la fonction codons_stop = OK\n"
     ]
    }
   ],
   "source": [
    "# ------------  TEST/EXEMPLE ---------- #\n",
    "\n",
    "def test_codons_stop():\n",
    "    assert codons_stop(load_dico_codons_aa('data/codons_aa.json'))==['AGA', 'AGG', 'UAA', 'UAG']\n",
    "    print(\"Test de la fonction codons_stop = OK\")\n",
    "\n",
    "test_codons_stop()\n",
    "\n"
   ]
  },
  {
   "cell_type": "markdown",
   "id": "cfa99800",
   "metadata": {},
   "source": [
    "# Question 6 # "
   ]
  },
  {
   "cell_type": "markdown",
   "id": "54570d8e",
   "metadata": {},
   "source": [
    "Définir la fonction codons_to_aa prenant en paramètre un tableau de codons (correspondant par exemple à une valeur retournée par la fonction arn_to_codons) et le dictionnaire de correspondance entre codons et acides aminés. La fonction devra retourner un tableau contenant les acides aminés correspondant aux codons.\n",
    "Attention : Si l'un des codons est un codon stop, alors la synthèse (traduction des codons en acides aminés) s'arrête. Par exemple, si le tableau de codons passé en paramètre est [\"CGU\", \"AAU\", \"UAA\", \"GGG\", \"CGU\"], alors le tableau retourné doit être [\"Arginine\", \"Asparagine\"] car le codon CGU correspond à l'Arginine, le codon AAU correspond à l'asparagine et UAA est un codon stop.\n",
    "\n"
   ]
  },
  {
   "cell_type": "code",
   "execution_count": 11,
   "id": "e3142b9e",
   "metadata": {},
   "outputs": [
    {
     "name": "stdout",
     "output_type": "stream",
     "text": [
      "['Phenylalanine', 'Phenylalanine', 'Leucine', 'Leucine']\n"
     ]
    }
   ],
   "source": [
    "def codons_to_aa(codons, dico):\n",
    "    \n",
    "    \"\"\"\n",
    "    Ajoute dans un tableau la valeur des acides aminés correspondants aux différents codons passés en paramètre\n",
    "    :param codons,dico : str correspond à un tableau correspond aux codons et à un dictionnaire contenant les codons associés à leur acide aminé\n",
    "    :return : un tableau correspondant aux acide aminés\n",
    "    \"\"\"\n",
    "    \n",
    "    i=0\n",
    "    res=[]\n",
    "    values = list(dico.values())\n",
    "    while i<len(codons):\n",
    "        res.append(values[i])\n",
    "        if codons[i] in codons_stop(dico):\n",
    "            return res\n",
    "        i+=1\n",
    "    return res\n",
    "\n",
    "res= codons_to_aa(['CGU','CGG', 'UUU','CUU'], load_dico_codons_aa('codons_aa.json'))\n",
    "print(res)"
   ]
  },
  {
   "cell_type": "code",
   "execution_count": 12,
   "id": "72479980",
   "metadata": {},
   "outputs": [
    {
     "ename": "AssertionError",
     "evalue": "",
     "output_type": "error",
     "traceback": [
      "\u001b[1;31m---------------------------------------------------------------------------\u001b[0m",
      "\u001b[1;31mAssertionError\u001b[0m                            Traceback (most recent call last)",
      "Input \u001b[1;32mIn [12]\u001b[0m, in \u001b[0;36m<cell line: 10>\u001b[1;34m()\u001b[0m\n\u001b[0;32m      7\u001b[0m     \u001b[38;5;28;01massert\u001b[39;00m codons_to_aa([\u001b[38;5;124m\"\u001b[39m\u001b[38;5;124mCGU\u001b[39m\u001b[38;5;124m\"\u001b[39m, \u001b[38;5;124m\"\u001b[39m\u001b[38;5;124mAAU\u001b[39m\u001b[38;5;124m\"\u001b[39m, \u001b[38;5;124m\"\u001b[39m\u001b[38;5;124mUAA\u001b[39m\u001b[38;5;124m\"\u001b[39m, \u001b[38;5;124m\"\u001b[39m\u001b[38;5;124mGGG\u001b[39m\u001b[38;5;124m\"\u001b[39m, \u001b[38;5;124m\"\u001b[39m\u001b[38;5;124mCGU\u001b[39m\u001b[38;5;124m\"\u001b[39m],load_dico_codons_aa(\u001b[38;5;124m'\u001b[39m\u001b[38;5;124mdata/codons_aa.json\u001b[39m\u001b[38;5;124m'\u001b[39m))\u001b[38;5;241m!=\u001b[39m[]\n\u001b[0;32m      8\u001b[0m     \u001b[38;5;28mprint\u001b[39m(\u001b[38;5;124m\"\u001b[39m\u001b[38;5;124mTest de la fonction codons_to_aa = OK\u001b[39m\u001b[38;5;124m\"\u001b[39m)\n\u001b[1;32m---> 10\u001b[0m \u001b[43mtest_codons_to_aa\u001b[49m\u001b[43m(\u001b[49m\u001b[43m)\u001b[49m\n",
      "Input \u001b[1;32mIn [12]\u001b[0m, in \u001b[0;36mtest_codons_to_aa\u001b[1;34m()\u001b[0m\n\u001b[0;32m      2\u001b[0m \u001b[38;5;28;01mdef\u001b[39;00m \u001b[38;5;21mtest_codons_to_aa\u001b[39m():\n\u001b[1;32m----> 3\u001b[0m     \u001b[38;5;28;01massert\u001b[39;00m codons_to_aa([\u001b[38;5;124m\"\u001b[39m\u001b[38;5;124mCGU\u001b[39m\u001b[38;5;124m\"\u001b[39m, \u001b[38;5;124m\"\u001b[39m\u001b[38;5;124mAAU\u001b[39m\u001b[38;5;124m\"\u001b[39m, \u001b[38;5;124m\"\u001b[39m\u001b[38;5;124mUAA\u001b[39m\u001b[38;5;124m\"\u001b[39m, \u001b[38;5;124m\"\u001b[39m\u001b[38;5;124mGGG\u001b[39m\u001b[38;5;124m\"\u001b[39m, \u001b[38;5;124m\"\u001b[39m\u001b[38;5;124mCGU\u001b[39m\u001b[38;5;124m\"\u001b[39m],load_dico_codons_aa(\u001b[38;5;124m'\u001b[39m\u001b[38;5;124mdata/codons_aa.json\u001b[39m\u001b[38;5;124m'\u001b[39m))\u001b[38;5;241m==\u001b[39m[\u001b[38;5;124m\"\u001b[39m\u001b[38;5;124mArginine\u001b[39m\u001b[38;5;124m\"\u001b[39m, \u001b[38;5;124m\"\u001b[39m\u001b[38;5;124mAsparagine\u001b[39m\u001b[38;5;124m\"\u001b[39m]\n\u001b[0;32m      4\u001b[0m     \u001b[38;5;28;01massert\u001b[39;00m codons_to_aa([\u001b[38;5;124m'\u001b[39m\u001b[38;5;124mCGU\u001b[39m\u001b[38;5;124m'\u001b[39m, \u001b[38;5;124m'\u001b[39m\u001b[38;5;124mCGG\u001b[39m\u001b[38;5;124m'\u001b[39m, \u001b[38;5;124m'\u001b[39m\u001b[38;5;124mUAA\u001b[39m\u001b[38;5;124m'\u001b[39m, \u001b[38;5;124m'\u001b[39m\u001b[38;5;124mCUU\u001b[39m\u001b[38;5;124m'\u001b[39m],load_dico_codons_aa(\u001b[38;5;124m'\u001b[39m\u001b[38;5;124mdata/codons_aa.json\u001b[39m\u001b[38;5;124m'\u001b[39m))\u001b[38;5;241m==\u001b[39m[\u001b[38;5;124m'\u001b[39m\u001b[38;5;124mArginine\u001b[39m\u001b[38;5;124m'\u001b[39m, \u001b[38;5;124m'\u001b[39m\u001b[38;5;124mArginine\u001b[39m\u001b[38;5;124m'\u001b[39m]\n\u001b[0;32m      5\u001b[0m     \u001b[38;5;28;01massert\u001b[39;00m codons_to_aa([\u001b[38;5;124m'\u001b[39m\u001b[38;5;124mUAA\u001b[39m\u001b[38;5;124m'\u001b[39m], load_dico_codons_aa(\u001b[38;5;124m'\u001b[39m\u001b[38;5;124mdata/codons_aa.json\u001b[39m\u001b[38;5;124m'\u001b[39m))\u001b[38;5;241m==\u001b[39m[]\n",
      "\u001b[1;31mAssertionError\u001b[0m: "
     ]
    }
   ],
   "source": [
    "# ------------  TEST/EXEMPLE ---------- #\n",
    "def test_codons_to_aa():\n",
    "    assert codons_to_aa([\"CGU\", \"AAU\", \"UAA\", \"GGG\", \"CGU\"],load_dico_codons_aa('data/codons_aa.json'))==[\"Arginine\", \"Asparagine\"]\n",
    "    assert codons_to_aa(['CGU', 'CGG', 'UAA', 'CUU'],load_dico_codons_aa('data/codons_aa.json'))==['Arginine', 'Arginine']\n",
    "    assert codons_to_aa(['UAA'], load_dico_codons_aa('data/codons_aa.json'))==[]\n",
    "    assert codons_to_aa(['CGU', 'UAG', 'GGG'],load_dico_codons_aa('data/codons_aa.json')) == ['Arginine']\n",
    "    assert codons_to_aa([\"CGU\", \"AAU\", \"UAA\", \"GGG\", \"CGU\"],load_dico_codons_aa('data/codons_aa.json'))!=[]\n",
    "    print(\"Test de la fonction codons_to_aa = OK\")\n",
    "\n",
    "test_codons_to_aa()\n"
   ]
  }
 ],
 "metadata": {
  "kernelspec": {
   "display_name": "Python 3 (ipykernel)",
   "language": "python",
   "name": "python3"
  },
  "language_info": {
   "codemirror_mode": {
    "name": "ipython",
    "version": 3
   },
   "file_extension": ".py",
   "mimetype": "text/x-python",
   "name": "python",
   "nbconvert_exporter": "python",
   "pygments_lexer": "ipython3",
   "version": "3.11.1"
  }
 },
 "nbformat": 4,
 "nbformat_minor": 5
}
